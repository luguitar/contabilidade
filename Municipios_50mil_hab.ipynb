{
  "nbformat": 4,
  "nbformat_minor": 0,
  "metadata": {
    "kernelspec": {
      "display_name": "R",
      "language": "R",
      "name": "ir"
    },
    "language_info": {
      "codemirror_mode": "r",
      "file_extension": ".r",
      "mimetype": "text/x-r-source",
      "name": "R",
      "pygments_lexer": "r",
      "version": "3.3.1"
    },
    "colab": {
      "name": "Municipios-50mil-hab.ipynb",
      "provenance": [],
      "collapsed_sections": []
    }
  },
  "cells": [
    {
      "cell_type": "markdown",
      "metadata": {
        "id": "zeCWjfyphbGB"
      },
      "source": [
        "**LabDadosPrev(\"RPPS\") - Laboratório de Análise de Dados Previdenciários**\n",
        "\n",
        "</br>\n",
        "\n",
        "# **Municípios com menos de 50 mil habitantes e as transferências voluntárias**\n",
        "----\n",
        "\"_Sem dados, você é apenas mais uma pessoa com uma opinião_\" - **W. E. Deming**\n",
        "\n",
        "</br>\n",
        "\n",
        ">[Marcos F Silva](https://audinalytics.netlify.app/)   \n",
        "**Última Atualização:** 11/07/2021  \n",
        "**Status:** concluído\n",
        "\n",
        "\n"
      ]
    },
    {
      "cell_type": "markdown",
      "metadata": {
        "id": "p8yiisM6ZfFU"
      },
      "source": [
        "## **Introdução**\n",
        "\n",
        "\n",
        "<!--\n",
        "\n",
        "As pessoas que militam no segmento de RPPS sabem que quando o Ente está com o Certificado de Regularidade Previdenciária (CRP) vencido fica sujeito a diversas restrições, dentre as quais não ter mais acesso às transferências voluntárias da União. E uma das razões para que um Ente não consiga atualizar o seu CRP é estar inadimplente com as contribuições previdenciárias.\n",
        "\n",
        "-->\n",
        "\n",
        "[Notícia recente](https://www.cnm.org.br/index.php/comunicacao/noticias/municipios-de-ate-50-mil-habitantes-nao-dependerao-de-adimplencia-para-receber-transferencia-voluntaria) (01/06/2021) nos informa que municípios com menos de 50 mil habitantes não dependerão de adimplência para receber transferência voluntária. \n",
        "\n",
        "A proposta abrange a inadimplência de uma forma bem mais ampla:  *“(...) não dependerão da situação de adimplência do Município de até 50.000 habitantes, identificada em cadastros ou sistemas de informações financeiras, contábeis e fiscais”* \n",
        "\n",
        "De fato, a medida alcança todos os municípios com menos de 50 mil habitantes com problemas nos itens do CAUC relativos a `Obrigações de Adimplência Financeira` que abrange os itens 1.1, 1.3, 1.4 e 1.5.\n",
        "\n",
        "Apresentamos a seguir a descrição da codificação do CAUC:\n",
        "\n",
        "\n",
        "Código do Item |\tExigência\n",
        "----------------|-------------------------\n",
        "**I**\t|**Obrigações de Adimplência Financeira** |\n",
        "1.1\t| Regularidade quanto a Tributos, a Contribuições Previdenciárias Federais e à Dívida Ativa da União\n",
        "1.3\t|Regularidade quanto a Contribuições para o FGTS\n",
        "1.4\t|Regularidade em relação à Adimplência Financeira em Empréstimos e Financiamentos concedidos pela União\n",
        "1.5\t|Regularidade perante o Poder Público Federal\n",
        "**II**|\t**Adimplemento na Prestação de Contas de Convênios**|\n",
        "2.1\t|Regularidade quanto à Prestação de Contas de Recursos Federais recebidos anteriormente\n",
        "2.1.1\t|SIAFI/Subsistema Transferências\n",
        "2.1.2\t|Plataforma +Brasil\n",
        "**III**|\t**Obrigações de Transparência**|\n",
        "3.1\t|Relatório de Gestão Fiscal - RGF\n",
        "3.1.1\t|Publicação do Relatório de Gestão Fiscal\n",
        "3.1.2\t|Encaminhamento do Relatório de Gestão Fiscal ao Siconfi\n",
        "3.2\t|Relatório Resumido de Execução Orçamentária - RREO\n",
        "3.2.1\t|Publicação do Relatório Resumido de Execução Orçamentária - RREO\n",
        "3.2.2\t|Encaminhamento do Relatório Resumido de Execução Orçamentária ao Siconfi\n",
        "3.2.3\t|Encaminhamento do Anexo 8 do Relatório Resumido de Execução Orçamentária ao Siope\n",
        "3.2.4\t|Encaminhamento do Anexo 12 do Relatório Resumido de Execução Orçamentária ao Siops\n",
        "3.3\t|Encaminhamento das Contas Anuais\n",
        "3.4\t|Encaminhamento da Matriz de Saldos Contábeis\n",
        "3.5\t|Encaminhamento de Informações para o Cadastro da Dívida Pública - CDP\n",
        "**IV**|\t**Adimplemento de Obrigações Constitucionais ou Legais**|\n",
        "4.1\t|Exercício da Plena Competência Tributária\n",
        "4.2\t|Regularidade Previdenciária\n",
        "4.3\t|Regularidade quanto à Concessão de Incentivos Fiscais\n",
        "**V**|\t**Cumprimento de Limites Constitucionais e Legais**|\n",
        "5.1\t|Aplicação Mínima de recursos em Educação\n",
        "5.2\t|Aplicação Mínima de recursos em Saúde\n",
        "5.3\t|Limite de Despesas com Parcerias Público-Privadas (PPP)\n",
        "5.4\t|Limite de operações de crédito, inclusive por antecipação de receita\n",
        "\n",
        "A regularidade previdênciária, objeto do item 4.2 e aferida pelo CRP, não parece relacionar-se diretamente com a medida legislativa em questão.\n",
        "\n",
        "Para mais informações sobre o CAUC, consultar a seguinte [página](https://www.tesourotransparente.gov.br/temas/estados-e-municipios/cauc)\n",
        "\n",
        "## **Objetivo**\n",
        "\n",
        "Nosso objetivo inicial é bem simples: identicar quantos Entes com população inferior a 50 mil habitantes estão vinculados ao Regime Próprio de Previdência Social - RPPS e quantos desses pequenos municípios estão regulares no item 4.2 do CAUC que, como pode ser visto na tabela acima, refere-se à regularidade previdenciária.\n",
        "\n",
        "\n",
        "## **Dados**\n",
        "\n",
        "Para e execução desta tarefa será necessário obter dois conjuntos de dados:\n",
        "* Relação dos RPPS brasileiros;    \n",
        "* População dos municípios brasileiros.\n",
        "\n",
        "A relação dos RPPS brasileiros consta do site da SPREV. É o arquivo denominado **`Regime Previdenciário Atual dos Entes Federativos`**.\n",
        "\n",
        "Houve a necessidade de incluir nessa base de dados o **código IBGE** para que fosse possível combinar esta base de dados com outras que possuam esse código como por exemplo o arquivo **`POP2020_20210331.xls`** obtido no site do IBGE contendo a população estimada para os municípios. \n",
        "\n",
        "Este arquivo consiste _\"(...) de estimativas para 1º de julho de 2020, atualizadas e enviadas ao TCU após a publicação no DOU\"_ e pode ser obtido [AQUI](https://www.ibge.gov.br/estatisticas/sociais/populacao/9103-estimativas-de-populacao.html?=&t=resultados).\n",
        "\n",
        "Um outro conjunto de dados interessante e que possui informações sobre a população dos municípios é o que contém informações sobre o **Sistema de Informações sobre Requisitos Fiscais (CAUC)**.\n",
        "\n",
        "Estes dados podem ser obtidos no [site do Tesourotransparente](https://www.tesourotransparente.gov.br/ckan/dataset/cauc) e tem como objetivo disponibilizar informações gerenciais do CAUC relativas à situação de cumprimento de requisitos fiscais. \n",
        "\n",
        "Outro conjunto de dados que também pode ser interessante trazer para as análises é o **CAPAG dos municípios** também disponível no [site do Tesourotransparente](http://www.tesourotransparente.gov.br/ckan/dataset/capag-municipios).\n",
        "\n"
      ]
    },
    {
      "cell_type": "markdown",
      "metadata": {
        "id": "3YMGXKFBdp8t"
      },
      "source": [
        "## **Carregamento dos pacotes necessários**"
      ]
    },
    {
      "cell_type": "code",
      "metadata": {
        "id": "tLqNPbSbrWr1"
      },
      "source": [
        "#@title\n",
        "library(readxl)\n",
        "library(readr)\n",
        "library(dplyr)\n",
        "library(stringr)"
      ],
      "execution_count": null,
      "outputs": []
    },
    {
      "cell_type": "markdown",
      "metadata": {
        "id": "lTOoGqxJd1Qj"
      },
      "source": [
        "## **Importação dos dados**"
      ]
    },
    {
      "cell_type": "code",
      "metadata": {
        "id": "1p35sskHOx6x"
      },
      "source": [
        "#@title \n",
        "regimeprev <- read_excel(\"/content/codigo_ibge.xlsx\", sheet=\"crp_final\")"
      ],
      "execution_count": null,
      "outputs": []
    },
    {
      "cell_type": "code",
      "metadata": {
        "id": "0a-gXLE8aKpR",
        "cellView": "form"
      },
      "source": [
        "#@title \n",
        "pop <- read_excel(\"/content/POP2020_20210331.xls\",\n",
        "                        sheet=\"Municípios\",\n",
        "                        range = \"A3:E5572\",\n",
        "                        col_names = c(\"uf\", \"cod_uf\", \"cod_munic\", \"nm_munic\", \"pop_estimada\"))"
      ],
      "execution_count": null,
      "outputs": []
    },
    {
      "cell_type": "code",
      "metadata": {
        "id": "igeLmB5HM8pW",
        "cellView": "form"
      },
      "source": [
        "#@title \n",
        "nomes_colunas <- c(\"uf\", \"nm_ente\", \"cod_ibge\", \"cod_siafi\", \"regiao\", \"populacao\", \"fonte\",\n",
        "                   \"item_1.1\", \"item_1.3\", \"item_1.4\", \"item_1.5\", \"item_2.1.1\", \"item_2.1.2\",\n",
        "                   \"item_3.1.1\", \"item_3.1.2\", \"item_3.2.1\", \"item_3.2.2\", \"item_3.2.3\", \"item_3.2.4\",\n",
        "                   \"item_3.3\", \"item_3.4\", \"item_3.5\", \"item_4.1\", \"item_4.2\", \"item_5.1\", \"item_5.2\",\n",
        "                   \"item_5.3\", \"item_5.4\")\n",
        "\n",
        "cauc <- read_csv2(\"/content/Relatorio-Situacao-de-Varios-Entes---Municipios---UF-Todas---Abrangencia-1.csv\",\n",
        "                  skip=4,\n",
        "                  na=\"!\",\n",
        "                  col_names = nomes_colunas,\n",
        "                  locale=locale(encoding = \"latin1\"),\n",
        "                  col_type = cols(),\n",
        "                  n_max=(5572-4)) "
      ],
      "execution_count": null,
      "outputs": []
    },
    {
      "cell_type": "markdown",
      "metadata": {
        "id": "sfiTuWs1clqe"
      },
      "source": [
        "Feita a importação dos dados, vamos dar uma olhadinha pra ver se tudo correu bem. Se não há nada estranho."
      ]
    },
    {
      "cell_type": "code",
      "metadata": {
        "colab": {
          "base_uri": "https://localhost:8080/"
        },
        "id": "tVgisOVBU-L9",
        "cellView": "form",
        "outputId": "fb26e4fe-682f-4b1a-b1b6-f2d6c10dbd1d"
      },
      "source": [
        "#@title \n",
        "glimpse(regimeprev)"
      ],
      "execution_count": null,
      "outputs": [
        {
          "output_type": "stream",
          "text": [
            "Rows: 5,598\n",
            "Columns: 8\n",
            "$ uf             \u001b[3m\u001b[90m<chr>\u001b[39m\u001b[23m \"AC\", \"AC\", \"AC\", \"AC\", \"AC\", \"AC\", \"AC\", \"AC\", \"AC\", \"…\n",
            "$ ente           \u001b[3m\u001b[90m<chr>\u001b[39m\u001b[23m \"Acrelândia\", \"Assis Brasil\", \"Brasiléia\", \"Bujari\", \"C…\n",
            "$ cod_uf         \u001b[3m\u001b[90m<chr>\u001b[39m\u001b[23m \"12\", \"12\", \"12\", \"12\", \"12\", \"12\", \"12\", \"12\", \"12\", \"…\n",
            "$ nm_estado      \u001b[3m\u001b[90m<chr>\u001b[39m\u001b[23m \"Acre\", \"Acre\", \"Acre\", \"Acre\", \"Acre\", \"Acre\", \"Acre\",…\n",
            "$ cod_ibge       \u001b[3m\u001b[90m<chr>\u001b[39m\u001b[23m \"1200013\", \"1200054\", \"1200104\", \"1200138\", \"1200179\", …\n",
            "$ cnpj           \u001b[3m\u001b[90m<chr>\u001b[39m\u001b[23m \"84306737000127\", \"04045993000179\", \"04508933000145\", \"…\n",
            "$ regime         \u001b[3m\u001b[90m<chr>\u001b[39m\u001b[23m \"RGPS\", \"RGPS\", \"RGPS\", \"RGPS\", \"RGPS\", \"RGPS\", \"RGPS\",…\n",
            "$ dif_ibge_sprev \u001b[3m\u001b[90m<lgl>\u001b[39m\u001b[23m NA, NA, NA, NA, NA, NA, NA, NA, NA, NA, NA, NA, NA, NA,…\n"
          ],
          "name": "stdout"
        }
      ]
    },
    {
      "cell_type": "code",
      "metadata": {
        "colab": {
          "base_uri": "https://localhost:8080/"
        },
        "id": "wVr15HniLQtr",
        "cellView": "form",
        "outputId": "22db94a3-7082-4409-b9c2-6bc7fbfb6905"
      },
      "source": [
        "#@title \n",
        "glimpse(pop)"
      ],
      "execution_count": null,
      "outputs": [
        {
          "output_type": "stream",
          "text": [
            "Rows: 5,570\n",
            "Columns: 5\n",
            "$ uf           \u001b[3m\u001b[90m<chr>\u001b[39m\u001b[23m \"RO\", \"RO\", \"RO\", \"RO\", \"RO\", \"RO\", \"RO\", \"RO\", \"RO\", \"RO…\n",
            "$ cod_uf       \u001b[3m\u001b[90m<dbl>\u001b[39m\u001b[23m 11, 11, 11, 11, 11, 11, 11, 11, 11, 11, 11, 11, 11, 11, 1…\n",
            "$ cod_munic    \u001b[3m\u001b[90m<chr>\u001b[39m\u001b[23m \"00015\", \"00023\", \"00031\", \"00049\", \"00056\", \"00064\", \"00…\n",
            "$ nm_munic     \u001b[3m\u001b[90m<chr>\u001b[39m\u001b[23m \"Alta Floresta D'Oeste\", \"Ariquemes\", \"Cabixi\", \"Cacoal\",…\n",
            "$ pop_estimada \u001b[3m\u001b[90m<chr>\u001b[39m\u001b[23m \"22728\", \"109523\", \"5188\", \"85893\", \"16204\", \"15544\", \"72…\n"
          ],
          "name": "stdout"
        }
      ]
    },
    {
      "cell_type": "code",
      "metadata": {
        "colab": {
          "base_uri": "https://localhost:8080/"
        },
        "id": "ZGtb13AddYYd",
        "cellView": "form",
        "outputId": "f20ddc60-644f-407a-a012-edf504943e46"
      },
      "source": [
        "#@title \n",
        "glimpse(cauc)"
      ],
      "execution_count": null,
      "outputs": [
        {
          "output_type": "stream",
          "text": [
            "Rows: 5,568\n",
            "Columns: 28\n",
            "$ uf         \u001b[3m\u001b[90m<chr>\u001b[39m\u001b[23m \"AC\", \"AC\", \"AC\", \"AC\", \"AC\", \"AC\", \"AC\", \"AC\", \"AC\", \"AC\",…\n",
            "$ nm_ente    \u001b[3m\u001b[90m<chr>\u001b[39m\u001b[23m \"Acrelândia\", \"Assis Brasil\", \"Brasiléia\", \"Bujari\", \"Capix…\n",
            "$ cod_ibge   \u001b[3m\u001b[90m<dbl>\u001b[39m\u001b[23m 1200013, 1200054, 1200104, 1200138, 1200179, 1200203, 12002…\n",
            "$ cod_siafi  \u001b[3m\u001b[90m<chr>\u001b[39m\u001b[23m \"0643\", \"0157\", \"0105\", \"0645\", \"0647\", \"0107\", \"0651\", \"01…\n",
            "$ regiao     \u001b[3m\u001b[90m<chr>\u001b[39m\u001b[23m \"N\", \"N\", \"N\", \"N\", \"N\", \"N\", \"N\", \"N\", \"N\", \"N\", \"N\", \"N\",…\n",
            "$ populacao  \u001b[3m\u001b[90m<dbl>\u001b[39m\u001b[23m 12538, 6075, 21438, 8474, 8810, 78444, 15126, 32311, 6531, …\n",
            "$ fonte      \u001b[3m\u001b[90m<lgl>\u001b[39m\u001b[23m NA, NA, NA, NA, NA, NA, NA, NA, NA, NA, NA, NA, NA, NA, NA,…\n",
            "$ item_1.1   \u001b[3m\u001b[90m<chr>\u001b[39m\u001b[23m NA, NA, \"15/11/21\", NA, NA, \"12/06/21\", \"14/09/21\", \"20/09/…\n",
            "$ item_1.3   \u001b[3m\u001b[90m<chr>\u001b[39m\u001b[23m NA, NA, \"22/08/21\", \"07/08/21\", NA, \"22/08/21\", \"19/08/21\",…\n",
            "$ item_1.4   \u001b[3m\u001b[90m<chr>\u001b[39m\u001b[23m \"03/06/21\", \"03/06/21\", \"03/06/21\", \"03/06/21\", \"03/06/21\",…\n",
            "$ item_1.5   \u001b[3m\u001b[90m<chr>\u001b[39m\u001b[23m NA, NA, \"03/06/21\", NA, NA, \"03/06/21\", \"03/06/21\", \"03/06/…\n",
            "$ item_2.1.1 \u001b[3m\u001b[90m<chr>\u001b[39m\u001b[23m \"03/06/21\", \"03/06/21\", \"03/06/21\", NA, \"03/06/21\", \"03/06/…\n",
            "$ item_2.1.2 \u001b[3m\u001b[90m<chr>\u001b[39m\u001b[23m \"03/06/21\", \"03/06/21\", \"03/06/21\", \"03/06/21\", \"03/06/21\",…\n",
            "$ item_3.1.1 \u001b[3m\u001b[90m<chr>\u001b[39m\u001b[23m NA, \"30/09/21\", \"30/09/21\", NA, NA, \"30/09/21\", \"30/09/21\",…\n",
            "$ item_3.1.2 \u001b[3m\u001b[90m<chr>\u001b[39m\u001b[23m \"30/09/21\", \"30/09/21\", \"30/09/21\", NA, NA, \"30/09/21\", \"30…\n",
            "$ item_3.2.1 \u001b[3m\u001b[90m<chr>\u001b[39m\u001b[23m NA, \"30/07/21\", \"30/07/21\", NA, \"30/07/21\", \"30/07/21\", \"30…\n",
            "$ item_3.2.2 \u001b[3m\u001b[90m<chr>\u001b[39m\u001b[23m \"30/07/21\", \"30/07/21\", \"30/07/21\", NA, \"30/07/21\", \"30/07/…\n",
            "$ item_3.2.3 \u001b[3m\u001b[90m<chr>\u001b[39m\u001b[23m \"Desabilitado\", \"Desabilitado\", \"Desabilitado\", \"Desabilita…\n",
            "$ item_3.2.4 \u001b[3m\u001b[90m<chr>\u001b[39m\u001b[23m \"Desabilitado\", \"Desabilitado\", \"Desabilitado\", \"Desabilita…\n",
            "$ item_3.3   \u001b[3m\u001b[90m<chr>\u001b[39m\u001b[23m \"30/04/22\", \"30/04/22\", \"30/04/22\", NA, \"30/04/22\", \"30/04/…\n",
            "$ item_3.4   \u001b[3m\u001b[90m<chr>\u001b[39m\u001b[23m \"30/06/21\", \"30/06/21\", \"30/06/21\", \"30/06/21\", \"30/06/21\",…\n",
            "$ item_3.5   \u001b[3m\u001b[90m<chr>\u001b[39m\u001b[23m \"03/06/21\", \"03/06/21\", \"03/06/21\", NA, NA, \"03/06/21\", \"03…\n",
            "$ item_4.1   \u001b[3m\u001b[90m<chr>\u001b[39m\u001b[23m \"30/04/22\", \"30/04/22\", \"30/04/22\", \"30/04/22\", \"30/04/22\",…\n",
            "$ item_4.2   \u001b[3m\u001b[90m<chr>\u001b[39m\u001b[23m \"Desabilitado\", \"Desabilitado\", \"Desabilitado\", \"Desabilita…\n",
            "$ item_5.1   \u001b[3m\u001b[90m<chr>\u001b[39m\u001b[23m \"30/01/22\", \"30/01/22\", \"30/01/22\", NA, NA, NA, \"30/01/22\",…\n",
            "$ item_5.2   \u001b[3m\u001b[90m<chr>\u001b[39m\u001b[23m \"03/06/21\", \"03/06/21\", \"03/06/21\", \"03/06/21\", \"03/06/21\",…\n",
            "$ item_5.3   \u001b[3m\u001b[90m<chr>\u001b[39m\u001b[23m \"30/07/21\", \"30/07/21\", \"30/07/21\", NA, \"30/07/21\", \"30/07/…\n",
            "$ item_5.4   \u001b[3m\u001b[90m<chr>\u001b[39m\u001b[23m \"30/09/21\", \"30/09/21\", \"30/09/21\", NA, NA, \"30/09/21\", \"30…\n"
          ],
          "name": "stdout"
        }
      ]
    },
    {
      "cell_type": "markdown",
      "metadata": {
        "id": "tv16eTT-yF0L"
      },
      "source": [
        "A variável `cod_ibge` está no formato numérico. Vamos converter para caractere para manter a compatibilidade com o formato dessa variável nas outras bases. "
      ]
    },
    {
      "cell_type": "code",
      "metadata": {
        "id": "7IsN31bKyXPl",
        "cellView": "form"
      },
      "source": [
        "#@title \n",
        "cauc <- cauc %>% mutate(cod_ibge = as.character(cod_ibge))"
      ],
      "execution_count": null,
      "outputs": []
    },
    {
      "cell_type": "markdown",
      "metadata": {
        "id": "_pRPTRIde_Nm"
      },
      "source": [
        "Olhando para esses resumos, alguns pontos podem ser observados:\n",
        "* A quantidade de linhas é diferente nos 3 conjuntos de dados\n",
        "* A população estimada, no conjunto de dados `pop` foi interpretada como caractere.\n",
        "\n",
        "Inspecionando a planilha com os dados, verifica-se que em alguns registros, os valores da população estão acompanhados de uma nota. Será necessário fazer a extração das mesmas e converter os dados para o formato numérico.\n",
        "\n",
        "Mas antes, vamos dar uma checada nesses valores."
      ]
    },
    {
      "cell_type": "code",
      "metadata": {
        "colab": {
          "base_uri": "https://localhost:8080/",
          "height": 692
        },
        "id": "eSpIK_0af_ZX",
        "cellView": "form",
        "outputId": "f632d135-7320-415f-c4be-1d0a58834270"
      },
      "source": [
        "#@title \n",
        "pop %>% filter(grepl(\"\\\\(.*\\\\)\", pop_estimada))"
      ],
      "execution_count": null,
      "outputs": [
        {
          "output_type": "display_data",
          "data": {
            "text/plain": [
              "   uf cod_uf cod_munic nm_munic                  pop_estimada\n",
              "1  RO 11     00205     Porto Velho               539354(1)   \n",
              "2  AM 13     00607     Benjamin Constant         43935(12)   \n",
              "3  AM 13     00839     Caapiranga                13283 (13)  \n",
              "4  AM 13     01654     Guajará                   16937(14)   \n",
              "5  AM 13     02306     Jutaí                     13886(15)   \n",
              "6  AM 13     02405     Lábrea                    46882(16)   \n",
              "7  AM 13     02553     Manaquiri                 33049 (2)   \n",
              "8  AM 13     03403     Parintins                 115363(17)  \n",
              "9  AM 13     03601     Santa Isabel do Rio Negro 25865(3)    \n",
              "10 AM 13     04062     Tabatinga                 67182(18)   \n",
              "11 AM 13     04302     Urucará                   16130 (4)   \n",
              "12 AM 13     04401     Urucurituba               23585(19)   \n",
              "13 PA 15     03754     Jacareacanga              7590 (5)    \n",
              "14 MA 21     07506     Paço do Lumiar            123747(6)   \n",
              "15 PE 26     05509     Ferreiros                 12170(7)    \n",
              "16 BA 29     09208     Coronel João Sá           15717 (8)   \n",
              "17 BA 29     12004     Ibiassucê                 9031(9)     \n",
              "18 BA 29     27101     Rodelas                   9442 (10)   \n",
              "19 BA 29     33208     Vera Cruz                 43716 (11)  "
            ],
            "text/latex": "A tibble: 19 × 5\n\\begin{tabular}{lllll}\n uf & cod\\_uf & cod\\_munic & nm\\_munic & pop\\_estimada\\\\\n <chr> & <dbl> & <chr> & <chr> & <chr>\\\\\n\\hline\n\t RO & 11 & 00205 & Porto Velho               & 539354(1) \\\\\n\t AM & 13 & 00607 & Benjamin Constant         & 43935(12) \\\\\n\t AM & 13 & 00839 & Caapiranga                & 13283 (13)\\\\\n\t AM & 13 & 01654 & Guajará                   & 16937(14) \\\\\n\t AM & 13 & 02306 & Jutaí                     & 13886(15) \\\\\n\t AM & 13 & 02405 & Lábrea                    & 46882(16) \\\\\n\t AM & 13 & 02553 & Manaquiri                 & 33049 (2) \\\\\n\t AM & 13 & 03403 & Parintins                 & 115363(17)\\\\\n\t AM & 13 & 03601 & Santa Isabel do Rio Negro & 25865(3)  \\\\\n\t AM & 13 & 04062 & Tabatinga                 & 67182(18) \\\\\n\t AM & 13 & 04302 & Urucará                   & 16130 (4) \\\\\n\t AM & 13 & 04401 & Urucurituba               & 23585(19) \\\\\n\t PA & 15 & 03754 & Jacareacanga              & 7590 (5)  \\\\\n\t MA & 21 & 07506 & Paço do Lumiar            & 123747(6) \\\\\n\t PE & 26 & 05509 & Ferreiros                 & 12170(7)  \\\\\n\t BA & 29 & 09208 & Coronel João Sá           & 15717 (8) \\\\\n\t BA & 29 & 12004 & Ibiassucê                 & 9031(9)   \\\\\n\t BA & 29 & 27101 & Rodelas                   & 9442 (10) \\\\\n\t BA & 29 & 33208 & Vera Cruz                 & 43716 (11)\\\\\n\\end{tabular}\n",
            "text/markdown": "\nA tibble: 19 × 5\n\n| uf &lt;chr&gt; | cod_uf &lt;dbl&gt; | cod_munic &lt;chr&gt; | nm_munic &lt;chr&gt; | pop_estimada &lt;chr&gt; |\n|---|---|---|---|---|\n| RO | 11 | 00205 | Porto Velho               | 539354(1)  |\n| AM | 13 | 00607 | Benjamin Constant         | 43935(12)  |\n| AM | 13 | 00839 | Caapiranga                | 13283 (13) |\n| AM | 13 | 01654 | Guajará                   | 16937(14)  |\n| AM | 13 | 02306 | Jutaí                     | 13886(15)  |\n| AM | 13 | 02405 | Lábrea                    | 46882(16)  |\n| AM | 13 | 02553 | Manaquiri                 | 33049 (2)  |\n| AM | 13 | 03403 | Parintins                 | 115363(17) |\n| AM | 13 | 03601 | Santa Isabel do Rio Negro | 25865(3)   |\n| AM | 13 | 04062 | Tabatinga                 | 67182(18)  |\n| AM | 13 | 04302 | Urucará                   | 16130 (4)  |\n| AM | 13 | 04401 | Urucurituba               | 23585(19)  |\n| PA | 15 | 03754 | Jacareacanga              | 7590 (5)   |\n| MA | 21 | 07506 | Paço do Lumiar            | 123747(6)  |\n| PE | 26 | 05509 | Ferreiros                 | 12170(7)   |\n| BA | 29 | 09208 | Coronel João Sá           | 15717 (8)  |\n| BA | 29 | 12004 | Ibiassucê                 | 9031(9)    |\n| BA | 29 | 27101 | Rodelas                   | 9442 (10)  |\n| BA | 29 | 33208 | Vera Cruz                 | 43716 (11) |\n\n",
            "text/html": [
              "<table class=\"dataframe\">\n",
              "<caption>A tibble: 19 × 5</caption>\n",
              "<thead>\n",
              "\t<tr><th scope=col>uf</th><th scope=col>cod_uf</th><th scope=col>cod_munic</th><th scope=col>nm_munic</th><th scope=col>pop_estimada</th></tr>\n",
              "\t<tr><th scope=col>&lt;chr&gt;</th><th scope=col>&lt;dbl&gt;</th><th scope=col>&lt;chr&gt;</th><th scope=col>&lt;chr&gt;</th><th scope=col>&lt;chr&gt;</th></tr>\n",
              "</thead>\n",
              "<tbody>\n",
              "\t<tr><td>RO</td><td>11</td><td>00205</td><td>Porto Velho              </td><td>539354(1) </td></tr>\n",
              "\t<tr><td>AM</td><td>13</td><td>00607</td><td>Benjamin Constant        </td><td>43935(12) </td></tr>\n",
              "\t<tr><td>AM</td><td>13</td><td>00839</td><td>Caapiranga               </td><td>13283 (13)</td></tr>\n",
              "\t<tr><td>AM</td><td>13</td><td>01654</td><td>Guajará                  </td><td>16937(14) </td></tr>\n",
              "\t<tr><td>AM</td><td>13</td><td>02306</td><td>Jutaí                    </td><td>13886(15) </td></tr>\n",
              "\t<tr><td>AM</td><td>13</td><td>02405</td><td>Lábrea                   </td><td>46882(16) </td></tr>\n",
              "\t<tr><td>AM</td><td>13</td><td>02553</td><td>Manaquiri                </td><td>33049 (2) </td></tr>\n",
              "\t<tr><td>AM</td><td>13</td><td>03403</td><td>Parintins                </td><td>115363(17)</td></tr>\n",
              "\t<tr><td>AM</td><td>13</td><td>03601</td><td>Santa Isabel do Rio Negro</td><td>25865(3)  </td></tr>\n",
              "\t<tr><td>AM</td><td>13</td><td>04062</td><td>Tabatinga                </td><td>67182(18) </td></tr>\n",
              "\t<tr><td>AM</td><td>13</td><td>04302</td><td>Urucará                  </td><td>16130 (4) </td></tr>\n",
              "\t<tr><td>AM</td><td>13</td><td>04401</td><td>Urucurituba              </td><td>23585(19) </td></tr>\n",
              "\t<tr><td>PA</td><td>15</td><td>03754</td><td>Jacareacanga             </td><td>7590 (5)  </td></tr>\n",
              "\t<tr><td>MA</td><td>21</td><td>07506</td><td>Paço do Lumiar           </td><td>123747(6) </td></tr>\n",
              "\t<tr><td>PE</td><td>26</td><td>05509</td><td>Ferreiros                </td><td>12170(7)  </td></tr>\n",
              "\t<tr><td>BA</td><td>29</td><td>09208</td><td>Coronel João Sá          </td><td>15717 (8) </td></tr>\n",
              "\t<tr><td>BA</td><td>29</td><td>12004</td><td>Ibiassucê                </td><td>9031(9)   </td></tr>\n",
              "\t<tr><td>BA</td><td>29</td><td>27101</td><td>Rodelas                  </td><td>9442 (10) </td></tr>\n",
              "\t<tr><td>BA</td><td>29</td><td>33208</td><td>Vera Cruz                </td><td>43716 (11)</td></tr>\n",
              "</tbody>\n",
              "</table>\n"
            ]
          },
          "metadata": {
            "tags": []
          }
        }
      ]
    },
    {
      "cell_type": "markdown",
      "metadata": {
        "id": "SIenZAhSjGLh"
      },
      "source": [
        "Como mencionado, é possível ver as indicações das notas ao lado dos valores da população. \n",
        "\n",
        "Vamos remover estas notas e converter os valores para o formato numérico."
      ]
    },
    {
      "cell_type": "code",
      "metadata": {
        "id": "4BbISqs9fmMj",
        "cellView": "form"
      },
      "source": [
        "#@title \n",
        "pop <- pop %>%\n",
        "           mutate(pop_estimada = as.integer(str_remove_all(pop_estimada, \"\\\\(.*\\\\)\")))"
      ],
      "execution_count": null,
      "outputs": []
    },
    {
      "cell_type": "code",
      "metadata": {
        "colab": {
          "base_uri": "https://localhost:8080/"
        },
        "id": "OJJ3JMreiGoq",
        "cellView": "form",
        "outputId": "95710e9d-bf03-491b-d410-412e0f80fd82"
      },
      "source": [
        "#@title \n",
        "glimpse(pop)"
      ],
      "execution_count": null,
      "outputs": [
        {
          "output_type": "stream",
          "text": [
            "Rows: 5,570\n",
            "Columns: 5\n",
            "$ uf           \u001b[3m\u001b[90m<chr>\u001b[39m\u001b[23m \"RO\", \"RO\", \"RO\", \"RO\", \"RO\", \"RO\", \"RO\", \"RO\", \"RO\", \"RO…\n",
            "$ cod_uf       \u001b[3m\u001b[90m<dbl>\u001b[39m\u001b[23m 11, 11, 11, 11, 11, 11, 11, 11, 11, 11, 11, 11, 11, 11, 1…\n",
            "$ cod_munic    \u001b[3m\u001b[90m<chr>\u001b[39m\u001b[23m \"00015\", \"00023\", \"00031\", \"00049\", \"00056\", \"00064\", \"00…\n",
            "$ nm_munic     \u001b[3m\u001b[90m<chr>\u001b[39m\u001b[23m \"Alta Floresta D'Oeste\", \"Ariquemes\", \"Cabixi\", \"Cacoal\",…\n",
            "$ pop_estimada \u001b[3m\u001b[90m<int>\u001b[39m\u001b[23m 22728, 109523, 5188, 85893, 16204, 15544, 7220, 18798, 32…\n"
          ],
          "name": "stdout"
        }
      ]
    },
    {
      "cell_type": "markdown",
      "metadata": {
        "id": "Ag7Z0pd9VWmd"
      },
      "source": [
        "Com as bases de dados importadas, é possível agora combiná-las em uma única base de dados. \n",
        "\n",
        "Isso é possível, juntando à base `regimeprev` os dados da população estimada para os municípios constante da base `pop` e também juntar os dados do CAUC que está na base `cauc`.\n",
        "\n",
        "Nas três bases os municípios são identificados de forma única com o código do IBGE. Na base `pop` precisamos fazer um pequeno  ajuste antes de começar a juntar as bases."
      ]
    },
    {
      "cell_type": "code",
      "metadata": {
        "colab": {
          "base_uri": "https://localhost:8080/",
          "height": 192
        },
        "id": "lDv1oJSVXzeT",
        "cellView": "form",
        "outputId": "f6eb0fe7-c8cc-480b-cd09-5ecdf89c2dcf"
      },
      "source": [
        "#@title \n",
        "pop <- pop %>% mutate(cod_ibge = paste0(cod_uf, cod_munic))\n",
        "head(pop, 3)"
      ],
      "execution_count": null,
      "outputs": [
        {
          "output_type": "display_data",
          "data": {
            "text/plain": [
              "  uf cod_uf cod_munic nm_munic              pop_estimada cod_ibge\n",
              "1 RO 11     00015     Alta Floresta D'Oeste  22728       1100015 \n",
              "2 RO 11     00023     Ariquemes             109523       1100023 \n",
              "3 RO 11     00031     Cabixi                  5188       1100031 "
            ],
            "text/latex": "A tibble: 3 × 6\n\\begin{tabular}{llllll}\n uf & cod\\_uf & cod\\_munic & nm\\_munic & pop\\_estimada & cod\\_ibge\\\\\n <chr> & <dbl> & <chr> & <chr> & <int> & <chr>\\\\\n\\hline\n\t RO & 11 & 00015 & Alta Floresta D'Oeste &  22728 & 1100015\\\\\n\t RO & 11 & 00023 & Ariquemes             & 109523 & 1100023\\\\\n\t RO & 11 & 00031 & Cabixi                &   5188 & 1100031\\\\\n\\end{tabular}\n",
            "text/markdown": "\nA tibble: 3 × 6\n\n| uf &lt;chr&gt; | cod_uf &lt;dbl&gt; | cod_munic &lt;chr&gt; | nm_munic &lt;chr&gt; | pop_estimada &lt;int&gt; | cod_ibge &lt;chr&gt; |\n|---|---|---|---|---|---|\n| RO | 11 | 00015 | Alta Floresta D'Oeste |  22728 | 1100015 |\n| RO | 11 | 00023 | Ariquemes             | 109523 | 1100023 |\n| RO | 11 | 00031 | Cabixi                |   5188 | 1100031 |\n\n",
            "text/html": [
              "<table class=\"dataframe\">\n",
              "<caption>A tibble: 3 × 6</caption>\n",
              "<thead>\n",
              "\t<tr><th scope=col>uf</th><th scope=col>cod_uf</th><th scope=col>cod_munic</th><th scope=col>nm_munic</th><th scope=col>pop_estimada</th><th scope=col>cod_ibge</th></tr>\n",
              "\t<tr><th scope=col>&lt;chr&gt;</th><th scope=col>&lt;dbl&gt;</th><th scope=col>&lt;chr&gt;</th><th scope=col>&lt;chr&gt;</th><th scope=col>&lt;int&gt;</th><th scope=col>&lt;chr&gt;</th></tr>\n",
              "</thead>\n",
              "<tbody>\n",
              "\t<tr><td>RO</td><td>11</td><td>00015</td><td>Alta Floresta D'Oeste</td><td> 22728</td><td>1100015</td></tr>\n",
              "\t<tr><td>RO</td><td>11</td><td>00023</td><td>Ariquemes            </td><td>109523</td><td>1100023</td></tr>\n",
              "\t<tr><td>RO</td><td>11</td><td>00031</td><td>Cabixi               </td><td>  5188</td><td>1100031</td></tr>\n",
              "</tbody>\n",
              "</table>\n"
            ]
          },
          "metadata": {
            "tags": []
          }
        }
      ]
    },
    {
      "cell_type": "code",
      "metadata": {
        "id": "w0Gnuvo6ZOEd",
        "cellView": "form"
      },
      "source": [
        "#@title \n",
        "dados <- regimeprev %>%\n",
        "            left_join(select(pop, cod_ibge, pop_estimada), by=\"cod_ibge\") %>%\n",
        "            left_join(select(cauc, cod_ibge, populacao, regiao, starts_with(\"item\")), by=\"cod_ibge\")"
      ],
      "execution_count": null,
      "outputs": []
    },
    {
      "cell_type": "code",
      "metadata": {
        "colab": {
          "base_uri": "https://localhost:8080/"
        },
        "id": "aoKQNwfraKOu",
        "cellView": "form",
        "outputId": "08793695-3e80-40ce-b4e7-0cc73fda0559"
      },
      "source": [
        "#@title \n",
        "glimpse(dados)"
      ],
      "execution_count": null,
      "outputs": [
        {
          "output_type": "stream",
          "text": [
            "Rows: 5,598\n",
            "Columns: 32\n",
            "$ uf             \u001b[3m\u001b[90m<chr>\u001b[39m\u001b[23m \"AC\", \"AC\", \"AC\", \"AC\", \"AC\", \"AC\", \"AC\", \"AC\", \"AC\", \"…\n",
            "$ ente           \u001b[3m\u001b[90m<chr>\u001b[39m\u001b[23m \"Acrelândia\", \"Assis Brasil\", \"Brasiléia\", \"Bujari\", \"C…\n",
            "$ cod_uf         \u001b[3m\u001b[90m<chr>\u001b[39m\u001b[23m \"12\", \"12\", \"12\", \"12\", \"12\", \"12\", \"12\", \"12\", \"12\", \"…\n",
            "$ nm_estado      \u001b[3m\u001b[90m<chr>\u001b[39m\u001b[23m \"Acre\", \"Acre\", \"Acre\", \"Acre\", \"Acre\", \"Acre\", \"Acre\",…\n",
            "$ cod_ibge       \u001b[3m\u001b[90m<chr>\u001b[39m\u001b[23m \"1200013\", \"1200054\", \"1200104\", \"1200138\", \"1200179\", …\n",
            "$ cnpj           \u001b[3m\u001b[90m<chr>\u001b[39m\u001b[23m \"84306737000127\", \"04045993000179\", \"04508933000145\", \"…\n",
            "$ regime         \u001b[3m\u001b[90m<chr>\u001b[39m\u001b[23m \"RGPS\", \"RGPS\", \"RGPS\", \"RGPS\", \"RGPS\", \"RGPS\", \"RGPS\",…\n",
            "$ dif_ibge_sprev \u001b[3m\u001b[90m<lgl>\u001b[39m\u001b[23m NA, NA, NA, NA, NA, NA, NA, NA, NA, NA, NA, NA, NA, NA,…\n",
            "$ pop_estimada   \u001b[3m\u001b[90m<int>\u001b[39m\u001b[23m 15490, 7534, 26702, 10420, 12008, 89072, 18696, 34884, …\n",
            "$ populacao      \u001b[3m\u001b[90m<dbl>\u001b[39m\u001b[23m 12538, 6075, 21438, 8474, 8810, 78444, 15126, 32311, NA…\n",
            "$ regiao         \u001b[3m\u001b[90m<chr>\u001b[39m\u001b[23m \"N\", \"N\", \"N\", \"N\", \"N\", \"N\", \"N\", \"N\", NA, \"N\", \"N\", \"…\n",
            "$ item_1.1       \u001b[3m\u001b[90m<chr>\u001b[39m\u001b[23m NA, NA, \"15/11/21\", NA, NA, \"12/06/21\", \"14/09/21\", \"20…\n",
            "$ item_1.3       \u001b[3m\u001b[90m<chr>\u001b[39m\u001b[23m NA, NA, \"22/08/21\", \"07/08/21\", NA, \"22/08/21\", \"19/08/…\n",
            "$ item_1.4       \u001b[3m\u001b[90m<chr>\u001b[39m\u001b[23m \"03/06/21\", \"03/06/21\", \"03/06/21\", \"03/06/21\", \"03/06/…\n",
            "$ item_1.5       \u001b[3m\u001b[90m<chr>\u001b[39m\u001b[23m NA, NA, \"03/06/21\", NA, NA, \"03/06/21\", \"03/06/21\", \"03…\n",
            "$ item_2.1.1     \u001b[3m\u001b[90m<chr>\u001b[39m\u001b[23m \"03/06/21\", \"03/06/21\", \"03/06/21\", NA, \"03/06/21\", \"03…\n",
            "$ item_2.1.2     \u001b[3m\u001b[90m<chr>\u001b[39m\u001b[23m \"03/06/21\", \"03/06/21\", \"03/06/21\", \"03/06/21\", \"03/06/…\n",
            "$ item_3.1.1     \u001b[3m\u001b[90m<chr>\u001b[39m\u001b[23m NA, \"30/09/21\", \"30/09/21\", NA, NA, \"30/09/21\", \"30/09/…\n",
            "$ item_3.1.2     \u001b[3m\u001b[90m<chr>\u001b[39m\u001b[23m \"30/09/21\", \"30/09/21\", \"30/09/21\", NA, NA, \"30/09/21\",…\n",
            "$ item_3.2.1     \u001b[3m\u001b[90m<chr>\u001b[39m\u001b[23m NA, \"30/07/21\", \"30/07/21\", NA, \"30/07/21\", \"30/07/21\",…\n",
            "$ item_3.2.2     \u001b[3m\u001b[90m<chr>\u001b[39m\u001b[23m \"30/07/21\", \"30/07/21\", \"30/07/21\", NA, \"30/07/21\", \"30…\n",
            "$ item_3.2.3     \u001b[3m\u001b[90m<chr>\u001b[39m\u001b[23m \"Desabilitado\", \"Desabilitado\", \"Desabilitado\", \"Desabi…\n",
            "$ item_3.2.4     \u001b[3m\u001b[90m<chr>\u001b[39m\u001b[23m \"Desabilitado\", \"Desabilitado\", \"Desabilitado\", \"Desabi…\n",
            "$ item_3.3       \u001b[3m\u001b[90m<chr>\u001b[39m\u001b[23m \"30/04/22\", \"30/04/22\", \"30/04/22\", NA, \"30/04/22\", \"30…\n",
            "$ item_3.4       \u001b[3m\u001b[90m<chr>\u001b[39m\u001b[23m \"30/06/21\", \"30/06/21\", \"30/06/21\", \"30/06/21\", \"30/06/…\n",
            "$ item_3.5       \u001b[3m\u001b[90m<chr>\u001b[39m\u001b[23m \"03/06/21\", \"03/06/21\", \"03/06/21\", NA, NA, \"03/06/21\",…\n",
            "$ item_4.1       \u001b[3m\u001b[90m<chr>\u001b[39m\u001b[23m \"30/04/22\", \"30/04/22\", \"30/04/22\", \"30/04/22\", \"30/04/…\n",
            "$ item_4.2       \u001b[3m\u001b[90m<chr>\u001b[39m\u001b[23m \"Desabilitado\", \"Desabilitado\", \"Desabilitado\", \"Desabi…\n",
            "$ item_5.1       \u001b[3m\u001b[90m<chr>\u001b[39m\u001b[23m \"30/01/22\", \"30/01/22\", \"30/01/22\", NA, NA, NA, \"30/01/…\n",
            "$ item_5.2       \u001b[3m\u001b[90m<chr>\u001b[39m\u001b[23m \"03/06/21\", \"03/06/21\", \"03/06/21\", \"03/06/21\", \"03/06/…\n",
            "$ item_5.3       \u001b[3m\u001b[90m<chr>\u001b[39m\u001b[23m \"30/07/21\", \"30/07/21\", \"30/07/21\", NA, \"30/07/21\", \"30…\n",
            "$ item_5.4       \u001b[3m\u001b[90m<chr>\u001b[39m\u001b[23m \"30/09/21\", \"30/09/21\", \"30/09/21\", NA, NA, \"30/09/21\",…\n"
          ],
          "name": "stdout"
        }
      ]
    },
    {
      "cell_type": "code",
      "metadata": {
        "colab": {
          "base_uri": "https://localhost:8080/",
          "height": 1000
        },
        "id": "qhesAO_-aSeJ",
        "cellView": "form",
        "outputId": "83dd2348-ffed-4afc-bc8a-5f120ed6ef21"
      },
      "source": [
        "#@title \n",
        "dados %>%\n",
        "  filter(is.na(pop_estimada))"
      ],
      "execution_count": null,
      "outputs": [
        {
          "output_type": "display_data",
          "data": {
            "text/plain": [
              "   uf ente                                     cod_uf nm_estado          \n",
              "1  AC Governo do Estado do Acre                12     Acre               \n",
              "2  AL Governo do Estado de Alagoas             27     Alagoas            \n",
              "3  AM Governo do Estado do Amazonas            13     Amazonas           \n",
              "4  AP Governo do Estado do Amapá               16     Amapá              \n",
              "5  BA Governo do Estado da Bahia               29     Bahia              \n",
              "6  CE Governo do Estado do Ceará               23     Ceará              \n",
              "7  ES Governo do Estado do Espírito Santo      32     Espírito Santo     \n",
              "8  GO Governo do Estado de Goiás               52     Goiás              \n",
              "9  MA Governo do Estado do Maranhão            21     Maranhão           \n",
              "10 MG Governo do Estado de Minas Gerais        31     Minas Gerais       \n",
              "11 MS Governo do Estado do Mato Grosso do Sul  50     Mato Grosso do Sul \n",
              "12 MT Governo do Estado do Mato Grosso         51     Mato Grosso        \n",
              "13 PA Governo do Estado do Pará                15     Pará               \n",
              "14 PB Governo do Estado da Paraíba             25     Paraíba            \n",
              "15 PE Governo do Estado de Pernambuco          26     Pernambuco         \n",
              "16 PI Governo do Estado do Piauí               22     Piauí              \n",
              "17 PR Governo do Estado do Paraná              41     Paraná             \n",
              "18 RJ Governo do Estado do Rio de Janeiro      33     Rio de Janeiro     \n",
              "19 RN Governo do Estado do Rio Grande do Norte 24     Rio Grande do Norte\n",
              "20 RO Governo do Estado de Rondônia            11     Rondônia           \n",
              "21 RR Governo do Estado de Roraima             14     Roraima            \n",
              "22 RS Governo do Estado do Rio Grande do Sul   43     Rio Grande do Sul  \n",
              "23 SC Governo do Estado de Santa Catarina      42     Santa Catarina     \n",
              "24 SE Governo do Estado de Sergipe             28     Sergipe            \n",
              "25 SP Governo do Estado de São Paulo           35     São Paulo          \n",
              "26 TO Governo do Estado do Tocantins           17     Tocantins          \n",
              "   cod_ibge cnpj           regime dif_ibge_sprev pop_estimada populacao ⋯\n",
              "1  1200000  63606479000124 RPPS   NA             NA           NA        ⋯\n",
              "2  2700000  12200176000176 RPPS   NA             NA           NA        ⋯\n",
              "3  1300000  04312369000190 RPPS   NA             NA           NA        ⋯\n",
              "4  1600000  00394577000125 RPPS   NA             NA           NA        ⋯\n",
              "5  2900000  13937032000160 RPPS   NA             NA           NA        ⋯\n",
              "6  2300000  07954480000179 RPPS   NA             NA           NA        ⋯\n",
              "7  3200000  27080530000143 RPPS   NA             NA           NA        ⋯\n",
              "8  5200000  01409580000138 RPPS   NA             NA           NA        ⋯\n",
              "9  2100000  06354468000160 RPPS   NA             NA           NA        ⋯\n",
              "10 3100000  18715615000160 RPPS   NA             NA           NA        ⋯\n",
              "11 5000000  15412257000128 RPPS   NA             NA           NA        ⋯\n",
              "12 5100000  03507415000144 RPPS   NA             NA           NA        ⋯\n",
              "13 1500000  05054861000176 RPPS   NA             NA           NA        ⋯\n",
              "14 2500000  08761124000100 RPPS   NA             NA           NA        ⋯\n",
              "15 2600000  10571982000125 RPPS   NA             NA           NA        ⋯\n",
              "16 2200000  06553481000149 RPPS   NA             NA           NA        ⋯\n",
              "17 4100000  76416940000128 RPPS   NA             NA           NA        ⋯\n",
              "18 3300000  42498600000171 RPPS   NA             NA           NA        ⋯\n",
              "19 2400000  08241739000105 RPPS   NA             NA           NA        ⋯\n",
              "20 1100000  00394585000171 RPPS   NA             NA           NA        ⋯\n",
              "21 1400000  84012012000126 RPPS   NA             NA           NA        ⋯\n",
              "22 4300000  87934675000196 RPPS   NA             NA           NA        ⋯\n",
              "23 4200000  82951229000176 RPPS   NA             NA           NA        ⋯\n",
              "24 2800000  13128798000101 RPPS   NA             NA           NA        ⋯\n",
              "25 3500000  46379400000150 RPPS   NA             NA           NA        ⋯\n",
              "26 1700000  01786029000103 RPPS   NA             NA           NA        ⋯\n",
              "   item_3.2.4 item_3.3 item_3.4 item_3.5 item_4.1 item_4.2 item_5.1 item_5.2\n",
              "1  NA         NA       NA       NA       NA       NA       NA       NA      \n",
              "2  NA         NA       NA       NA       NA       NA       NA       NA      \n",
              "3  NA         NA       NA       NA       NA       NA       NA       NA      \n",
              "4  NA         NA       NA       NA       NA       NA       NA       NA      \n",
              "5  NA         NA       NA       NA       NA       NA       NA       NA      \n",
              "6  NA         NA       NA       NA       NA       NA       NA       NA      \n",
              "7  NA         NA       NA       NA       NA       NA       NA       NA      \n",
              "8  NA         NA       NA       NA       NA       NA       NA       NA      \n",
              "9  NA         NA       NA       NA       NA       NA       NA       NA      \n",
              "10 NA         NA       NA       NA       NA       NA       NA       NA      \n",
              "11 NA         NA       NA       NA       NA       NA       NA       NA      \n",
              "12 NA         NA       NA       NA       NA       NA       NA       NA      \n",
              "13 NA         NA       NA       NA       NA       NA       NA       NA      \n",
              "14 NA         NA       NA       NA       NA       NA       NA       NA      \n",
              "15 NA         NA       NA       NA       NA       NA       NA       NA      \n",
              "16 NA         NA       NA       NA       NA       NA       NA       NA      \n",
              "17 NA         NA       NA       NA       NA       NA       NA       NA      \n",
              "18 NA         NA       NA       NA       NA       NA       NA       NA      \n",
              "19 NA         NA       NA       NA       NA       NA       NA       NA      \n",
              "20 NA         NA       NA       NA       NA       NA       NA       NA      \n",
              "21 NA         NA       NA       NA       NA       NA       NA       NA      \n",
              "22 NA         NA       NA       NA       NA       NA       NA       NA      \n",
              "23 NA         NA       NA       NA       NA       NA       NA       NA      \n",
              "24 NA         NA       NA       NA       NA       NA       NA       NA      \n",
              "25 NA         NA       NA       NA       NA       NA       NA       NA      \n",
              "26 NA         NA       NA       NA       NA       NA       NA       NA      \n",
              "   item_5.3 item_5.4\n",
              "1  NA       NA      \n",
              "2  NA       NA      \n",
              "3  NA       NA      \n",
              "4  NA       NA      \n",
              "5  NA       NA      \n",
              "6  NA       NA      \n",
              "7  NA       NA      \n",
              "8  NA       NA      \n",
              "9  NA       NA      \n",
              "10 NA       NA      \n",
              "11 NA       NA      \n",
              "12 NA       NA      \n",
              "13 NA       NA      \n",
              "14 NA       NA      \n",
              "15 NA       NA      \n",
              "16 NA       NA      \n",
              "17 NA       NA      \n",
              "18 NA       NA      \n",
              "19 NA       NA      \n",
              "20 NA       NA      \n",
              "21 NA       NA      \n",
              "22 NA       NA      \n",
              "23 NA       NA      \n",
              "24 NA       NA      \n",
              "25 NA       NA      \n",
              "26 NA       NA      "
            ],
            "text/latex": "A tibble: 26 × 32\n\\begin{tabular}{lllllllllllllllllllll}\n uf & ente & cod\\_uf & nm\\_estado & cod\\_ibge & cnpj & regime & dif\\_ibge\\_sprev & pop\\_estimada & populacao & ⋯ & item\\_3.2.4 & item\\_3.3 & item\\_3.4 & item\\_3.5 & item\\_4.1 & item\\_4.2 & item\\_5.1 & item\\_5.2 & item\\_5.3 & item\\_5.4\\\\\n <chr> & <chr> & <chr> & <chr> & <chr> & <chr> & <chr> & <lgl> & <int> & <dbl> & ⋯ & <chr> & <chr> & <chr> & <chr> & <chr> & <chr> & <chr> & <chr> & <chr> & <chr>\\\\\n\\hline\n\t AC & Governo do Estado do Acre                & 12 & Acre                & 1200000 & 63606479000124 & RPPS & NA & NA & NA & ⋯ & NA & NA & NA & NA & NA & NA & NA & NA & NA & NA\\\\\n\t AL & Governo do Estado de Alagoas             & 27 & Alagoas             & 2700000 & 12200176000176 & RPPS & NA & NA & NA & ⋯ & NA & NA & NA & NA & NA & NA & NA & NA & NA & NA\\\\\n\t AM & Governo do Estado do Amazonas            & 13 & Amazonas            & 1300000 & 04312369000190 & RPPS & NA & NA & NA & ⋯ & NA & NA & NA & NA & NA & NA & NA & NA & NA & NA\\\\\n\t AP & Governo do Estado do Amapá               & 16 & Amapá               & 1600000 & 00394577000125 & RPPS & NA & NA & NA & ⋯ & NA & NA & NA & NA & NA & NA & NA & NA & NA & NA\\\\\n\t BA & Governo do Estado da Bahia               & 29 & Bahia               & 2900000 & 13937032000160 & RPPS & NA & NA & NA & ⋯ & NA & NA & NA & NA & NA & NA & NA & NA & NA & NA\\\\\n\t CE & Governo do Estado do Ceará               & 23 & Ceará               & 2300000 & 07954480000179 & RPPS & NA & NA & NA & ⋯ & NA & NA & NA & NA & NA & NA & NA & NA & NA & NA\\\\\n\t ES & Governo do Estado do Espírito Santo      & 32 & Espírito Santo      & 3200000 & 27080530000143 & RPPS & NA & NA & NA & ⋯ & NA & NA & NA & NA & NA & NA & NA & NA & NA & NA\\\\\n\t GO & Governo do Estado de Goiás               & 52 & Goiás               & 5200000 & 01409580000138 & RPPS & NA & NA & NA & ⋯ & NA & NA & NA & NA & NA & NA & NA & NA & NA & NA\\\\\n\t MA & Governo do Estado do Maranhão            & 21 & Maranhão            & 2100000 & 06354468000160 & RPPS & NA & NA & NA & ⋯ & NA & NA & NA & NA & NA & NA & NA & NA & NA & NA\\\\\n\t MG & Governo do Estado de Minas Gerais        & 31 & Minas Gerais        & 3100000 & 18715615000160 & RPPS & NA & NA & NA & ⋯ & NA & NA & NA & NA & NA & NA & NA & NA & NA & NA\\\\\n\t MS & Governo do Estado do Mato Grosso do Sul  & 50 & Mato Grosso do Sul  & 5000000 & 15412257000128 & RPPS & NA & NA & NA & ⋯ & NA & NA & NA & NA & NA & NA & NA & NA & NA & NA\\\\\n\t MT & Governo do Estado do Mato Grosso         & 51 & Mato Grosso         & 5100000 & 03507415000144 & RPPS & NA & NA & NA & ⋯ & NA & NA & NA & NA & NA & NA & NA & NA & NA & NA\\\\\n\t PA & Governo do Estado do Pará                & 15 & Pará                & 1500000 & 05054861000176 & RPPS & NA & NA & NA & ⋯ & NA & NA & NA & NA & NA & NA & NA & NA & NA & NA\\\\\n\t PB & Governo do Estado da Paraíba             & 25 & Paraíba             & 2500000 & 08761124000100 & RPPS & NA & NA & NA & ⋯ & NA & NA & NA & NA & NA & NA & NA & NA & NA & NA\\\\\n\t PE & Governo do Estado de Pernambuco          & 26 & Pernambuco          & 2600000 & 10571982000125 & RPPS & NA & NA & NA & ⋯ & NA & NA & NA & NA & NA & NA & NA & NA & NA & NA\\\\\n\t PI & Governo do Estado do Piauí               & 22 & Piauí               & 2200000 & 06553481000149 & RPPS & NA & NA & NA & ⋯ & NA & NA & NA & NA & NA & NA & NA & NA & NA & NA\\\\\n\t PR & Governo do Estado do Paraná              & 41 & Paraná              & 4100000 & 76416940000128 & RPPS & NA & NA & NA & ⋯ & NA & NA & NA & NA & NA & NA & NA & NA & NA & NA\\\\\n\t RJ & Governo do Estado do Rio de Janeiro      & 33 & Rio de Janeiro      & 3300000 & 42498600000171 & RPPS & NA & NA & NA & ⋯ & NA & NA & NA & NA & NA & NA & NA & NA & NA & NA\\\\\n\t RN & Governo do Estado do Rio Grande do Norte & 24 & Rio Grande do Norte & 2400000 & 08241739000105 & RPPS & NA & NA & NA & ⋯ & NA & NA & NA & NA & NA & NA & NA & NA & NA & NA\\\\\n\t RO & Governo do Estado de Rondônia            & 11 & Rondônia            & 1100000 & 00394585000171 & RPPS & NA & NA & NA & ⋯ & NA & NA & NA & NA & NA & NA & NA & NA & NA & NA\\\\\n\t RR & Governo do Estado de Roraima             & 14 & Roraima             & 1400000 & 84012012000126 & RPPS & NA & NA & NA & ⋯ & NA & NA & NA & NA & NA & NA & NA & NA & NA & NA\\\\\n\t RS & Governo do Estado do Rio Grande do Sul   & 43 & Rio Grande do Sul   & 4300000 & 87934675000196 & RPPS & NA & NA & NA & ⋯ & NA & NA & NA & NA & NA & NA & NA & NA & NA & NA\\\\\n\t SC & Governo do Estado de Santa Catarina      & 42 & Santa Catarina      & 4200000 & 82951229000176 & RPPS & NA & NA & NA & ⋯ & NA & NA & NA & NA & NA & NA & NA & NA & NA & NA\\\\\n\t SE & Governo do Estado de Sergipe             & 28 & Sergipe             & 2800000 & 13128798000101 & RPPS & NA & NA & NA & ⋯ & NA & NA & NA & NA & NA & NA & NA & NA & NA & NA\\\\\n\t SP & Governo do Estado de São Paulo           & 35 & São Paulo           & 3500000 & 46379400000150 & RPPS & NA & NA & NA & ⋯ & NA & NA & NA & NA & NA & NA & NA & NA & NA & NA\\\\\n\t TO & Governo do Estado do Tocantins           & 17 & Tocantins           & 1700000 & 01786029000103 & RPPS & NA & NA & NA & ⋯ & NA & NA & NA & NA & NA & NA & NA & NA & NA & NA\\\\\n\\end{tabular}\n",
            "text/markdown": "\nA tibble: 26 × 32\n\n| uf &lt;chr&gt; | ente &lt;chr&gt; | cod_uf &lt;chr&gt; | nm_estado &lt;chr&gt; | cod_ibge &lt;chr&gt; | cnpj &lt;chr&gt; | regime &lt;chr&gt; | dif_ibge_sprev &lt;lgl&gt; | pop_estimada &lt;int&gt; | populacao &lt;dbl&gt; | ⋯ ⋯ | item_3.2.4 &lt;chr&gt; | item_3.3 &lt;chr&gt; | item_3.4 &lt;chr&gt; | item_3.5 &lt;chr&gt; | item_4.1 &lt;chr&gt; | item_4.2 &lt;chr&gt; | item_5.1 &lt;chr&gt; | item_5.2 &lt;chr&gt; | item_5.3 &lt;chr&gt; | item_5.4 &lt;chr&gt; |\n|---|---|---|---|---|---|---|---|---|---|---|---|---|---|---|---|---|---|---|---|---|\n| AC | Governo do Estado do Acre                | 12 | Acre                | 1200000 | 63606479000124 | RPPS | NA | NA | NA | ⋯ | NA | NA | NA | NA | NA | NA | NA | NA | NA | NA |\n| AL | Governo do Estado de Alagoas             | 27 | Alagoas             | 2700000 | 12200176000176 | RPPS | NA | NA | NA | ⋯ | NA | NA | NA | NA | NA | NA | NA | NA | NA | NA |\n| AM | Governo do Estado do Amazonas            | 13 | Amazonas            | 1300000 | 04312369000190 | RPPS | NA | NA | NA | ⋯ | NA | NA | NA | NA | NA | NA | NA | NA | NA | NA |\n| AP | Governo do Estado do Amapá               | 16 | Amapá               | 1600000 | 00394577000125 | RPPS | NA | NA | NA | ⋯ | NA | NA | NA | NA | NA | NA | NA | NA | NA | NA |\n| BA | Governo do Estado da Bahia               | 29 | Bahia               | 2900000 | 13937032000160 | RPPS | NA | NA | NA | ⋯ | NA | NA | NA | NA | NA | NA | NA | NA | NA | NA |\n| CE | Governo do Estado do Ceará               | 23 | Ceará               | 2300000 | 07954480000179 | RPPS | NA | NA | NA | ⋯ | NA | NA | NA | NA | NA | NA | NA | NA | NA | NA |\n| ES | Governo do Estado do Espírito Santo      | 32 | Espírito Santo      | 3200000 | 27080530000143 | RPPS | NA | NA | NA | ⋯ | NA | NA | NA | NA | NA | NA | NA | NA | NA | NA |\n| GO | Governo do Estado de Goiás               | 52 | Goiás               | 5200000 | 01409580000138 | RPPS | NA | NA | NA | ⋯ | NA | NA | NA | NA | NA | NA | NA | NA | NA | NA |\n| MA | Governo do Estado do Maranhão            | 21 | Maranhão            | 2100000 | 06354468000160 | RPPS | NA | NA | NA | ⋯ | NA | NA | NA | NA | NA | NA | NA | NA | NA | NA |\n| MG | Governo do Estado de Minas Gerais        | 31 | Minas Gerais        | 3100000 | 18715615000160 | RPPS | NA | NA | NA | ⋯ | NA | NA | NA | NA | NA | NA | NA | NA | NA | NA |\n| MS | Governo do Estado do Mato Grosso do Sul  | 50 | Mato Grosso do Sul  | 5000000 | 15412257000128 | RPPS | NA | NA | NA | ⋯ | NA | NA | NA | NA | NA | NA | NA | NA | NA | NA |\n| MT | Governo do Estado do Mato Grosso         | 51 | Mato Grosso         | 5100000 | 03507415000144 | RPPS | NA | NA | NA | ⋯ | NA | NA | NA | NA | NA | NA | NA | NA | NA | NA |\n| PA | Governo do Estado do Pará                | 15 | Pará                | 1500000 | 05054861000176 | RPPS | NA | NA | NA | ⋯ | NA | NA | NA | NA | NA | NA | NA | NA | NA | NA |\n| PB | Governo do Estado da Paraíba             | 25 | Paraíba             | 2500000 | 08761124000100 | RPPS | NA | NA | NA | ⋯ | NA | NA | NA | NA | NA | NA | NA | NA | NA | NA |\n| PE | Governo do Estado de Pernambuco          | 26 | Pernambuco          | 2600000 | 10571982000125 | RPPS | NA | NA | NA | ⋯ | NA | NA | NA | NA | NA | NA | NA | NA | NA | NA |\n| PI | Governo do Estado do Piauí               | 22 | Piauí               | 2200000 | 06553481000149 | RPPS | NA | NA | NA | ⋯ | NA | NA | NA | NA | NA | NA | NA | NA | NA | NA |\n| PR | Governo do Estado do Paraná              | 41 | Paraná              | 4100000 | 76416940000128 | RPPS | NA | NA | NA | ⋯ | NA | NA | NA | NA | NA | NA | NA | NA | NA | NA |\n| RJ | Governo do Estado do Rio de Janeiro      | 33 | Rio de Janeiro      | 3300000 | 42498600000171 | RPPS | NA | NA | NA | ⋯ | NA | NA | NA | NA | NA | NA | NA | NA | NA | NA |\n| RN | Governo do Estado do Rio Grande do Norte | 24 | Rio Grande do Norte | 2400000 | 08241739000105 | RPPS | NA | NA | NA | ⋯ | NA | NA | NA | NA | NA | NA | NA | NA | NA | NA |\n| RO | Governo do Estado de Rondônia            | 11 | Rondônia            | 1100000 | 00394585000171 | RPPS | NA | NA | NA | ⋯ | NA | NA | NA | NA | NA | NA | NA | NA | NA | NA |\n| RR | Governo do Estado de Roraima             | 14 | Roraima             | 1400000 | 84012012000126 | RPPS | NA | NA | NA | ⋯ | NA | NA | NA | NA | NA | NA | NA | NA | NA | NA |\n| RS | Governo do Estado do Rio Grande do Sul   | 43 | Rio Grande do Sul   | 4300000 | 87934675000196 | RPPS | NA | NA | NA | ⋯ | NA | NA | NA | NA | NA | NA | NA | NA | NA | NA |\n| SC | Governo do Estado de Santa Catarina      | 42 | Santa Catarina      | 4200000 | 82951229000176 | RPPS | NA | NA | NA | ⋯ | NA | NA | NA | NA | NA | NA | NA | NA | NA | NA |\n| SE | Governo do Estado de Sergipe             | 28 | Sergipe             | 2800000 | 13128798000101 | RPPS | NA | NA | NA | ⋯ | NA | NA | NA | NA | NA | NA | NA | NA | NA | NA |\n| SP | Governo do Estado de São Paulo           | 35 | São Paulo           | 3500000 | 46379400000150 | RPPS | NA | NA | NA | ⋯ | NA | NA | NA | NA | NA | NA | NA | NA | NA | NA |\n| TO | Governo do Estado do Tocantins           | 17 | Tocantins           | 1700000 | 01786029000103 | RPPS | NA | NA | NA | ⋯ | NA | NA | NA | NA | NA | NA | NA | NA | NA | NA |\n\n",
            "text/html": [
              "<table class=\"dataframe\">\n",
              "<caption>A tibble: 26 × 32</caption>\n",
              "<thead>\n",
              "\t<tr><th scope=col>uf</th><th scope=col>ente</th><th scope=col>cod_uf</th><th scope=col>nm_estado</th><th scope=col>cod_ibge</th><th scope=col>cnpj</th><th scope=col>regime</th><th scope=col>dif_ibge_sprev</th><th scope=col>pop_estimada</th><th scope=col>populacao</th><th scope=col>⋯</th><th scope=col>item_3.2.4</th><th scope=col>item_3.3</th><th scope=col>item_3.4</th><th scope=col>item_3.5</th><th scope=col>item_4.1</th><th scope=col>item_4.2</th><th scope=col>item_5.1</th><th scope=col>item_5.2</th><th scope=col>item_5.3</th><th scope=col>item_5.4</th></tr>\n",
              "\t<tr><th scope=col>&lt;chr&gt;</th><th scope=col>&lt;chr&gt;</th><th scope=col>&lt;chr&gt;</th><th scope=col>&lt;chr&gt;</th><th scope=col>&lt;chr&gt;</th><th scope=col>&lt;chr&gt;</th><th scope=col>&lt;chr&gt;</th><th scope=col>&lt;lgl&gt;</th><th scope=col>&lt;int&gt;</th><th scope=col>&lt;dbl&gt;</th><th scope=col>⋯</th><th scope=col>&lt;chr&gt;</th><th scope=col>&lt;chr&gt;</th><th scope=col>&lt;chr&gt;</th><th scope=col>&lt;chr&gt;</th><th scope=col>&lt;chr&gt;</th><th scope=col>&lt;chr&gt;</th><th scope=col>&lt;chr&gt;</th><th scope=col>&lt;chr&gt;</th><th scope=col>&lt;chr&gt;</th><th scope=col>&lt;chr&gt;</th></tr>\n",
              "</thead>\n",
              "<tbody>\n",
              "\t<tr><td>AC</td><td>Governo do Estado do Acre               </td><td>12</td><td>Acre               </td><td>1200000</td><td>63606479000124</td><td>RPPS</td><td>NA</td><td>NA</td><td>NA</td><td>⋯</td><td>NA</td><td>NA</td><td>NA</td><td>NA</td><td>NA</td><td>NA</td><td>NA</td><td>NA</td><td>NA</td><td>NA</td></tr>\n",
              "\t<tr><td>AL</td><td>Governo do Estado de Alagoas            </td><td>27</td><td>Alagoas            </td><td>2700000</td><td>12200176000176</td><td>RPPS</td><td>NA</td><td>NA</td><td>NA</td><td>⋯</td><td>NA</td><td>NA</td><td>NA</td><td>NA</td><td>NA</td><td>NA</td><td>NA</td><td>NA</td><td>NA</td><td>NA</td></tr>\n",
              "\t<tr><td>AM</td><td>Governo do Estado do Amazonas           </td><td>13</td><td>Amazonas           </td><td>1300000</td><td>04312369000190</td><td>RPPS</td><td>NA</td><td>NA</td><td>NA</td><td>⋯</td><td>NA</td><td>NA</td><td>NA</td><td>NA</td><td>NA</td><td>NA</td><td>NA</td><td>NA</td><td>NA</td><td>NA</td></tr>\n",
              "\t<tr><td>AP</td><td>Governo do Estado do Amapá              </td><td>16</td><td>Amapá              </td><td>1600000</td><td>00394577000125</td><td>RPPS</td><td>NA</td><td>NA</td><td>NA</td><td>⋯</td><td>NA</td><td>NA</td><td>NA</td><td>NA</td><td>NA</td><td>NA</td><td>NA</td><td>NA</td><td>NA</td><td>NA</td></tr>\n",
              "\t<tr><td>BA</td><td>Governo do Estado da Bahia              </td><td>29</td><td>Bahia              </td><td>2900000</td><td>13937032000160</td><td>RPPS</td><td>NA</td><td>NA</td><td>NA</td><td>⋯</td><td>NA</td><td>NA</td><td>NA</td><td>NA</td><td>NA</td><td>NA</td><td>NA</td><td>NA</td><td>NA</td><td>NA</td></tr>\n",
              "\t<tr><td>CE</td><td>Governo do Estado do Ceará              </td><td>23</td><td>Ceará              </td><td>2300000</td><td>07954480000179</td><td>RPPS</td><td>NA</td><td>NA</td><td>NA</td><td>⋯</td><td>NA</td><td>NA</td><td>NA</td><td>NA</td><td>NA</td><td>NA</td><td>NA</td><td>NA</td><td>NA</td><td>NA</td></tr>\n",
              "\t<tr><td>ES</td><td>Governo do Estado do Espírito Santo     </td><td>32</td><td>Espírito Santo     </td><td>3200000</td><td>27080530000143</td><td>RPPS</td><td>NA</td><td>NA</td><td>NA</td><td>⋯</td><td>NA</td><td>NA</td><td>NA</td><td>NA</td><td>NA</td><td>NA</td><td>NA</td><td>NA</td><td>NA</td><td>NA</td></tr>\n",
              "\t<tr><td>GO</td><td>Governo do Estado de Goiás              </td><td>52</td><td>Goiás              </td><td>5200000</td><td>01409580000138</td><td>RPPS</td><td>NA</td><td>NA</td><td>NA</td><td>⋯</td><td>NA</td><td>NA</td><td>NA</td><td>NA</td><td>NA</td><td>NA</td><td>NA</td><td>NA</td><td>NA</td><td>NA</td></tr>\n",
              "\t<tr><td>MA</td><td>Governo do Estado do Maranhão           </td><td>21</td><td>Maranhão           </td><td>2100000</td><td>06354468000160</td><td>RPPS</td><td>NA</td><td>NA</td><td>NA</td><td>⋯</td><td>NA</td><td>NA</td><td>NA</td><td>NA</td><td>NA</td><td>NA</td><td>NA</td><td>NA</td><td>NA</td><td>NA</td></tr>\n",
              "\t<tr><td>MG</td><td>Governo do Estado de Minas Gerais       </td><td>31</td><td>Minas Gerais       </td><td>3100000</td><td>18715615000160</td><td>RPPS</td><td>NA</td><td>NA</td><td>NA</td><td>⋯</td><td>NA</td><td>NA</td><td>NA</td><td>NA</td><td>NA</td><td>NA</td><td>NA</td><td>NA</td><td>NA</td><td>NA</td></tr>\n",
              "\t<tr><td>MS</td><td>Governo do Estado do Mato Grosso do Sul </td><td>50</td><td>Mato Grosso do Sul </td><td>5000000</td><td>15412257000128</td><td>RPPS</td><td>NA</td><td>NA</td><td>NA</td><td>⋯</td><td>NA</td><td>NA</td><td>NA</td><td>NA</td><td>NA</td><td>NA</td><td>NA</td><td>NA</td><td>NA</td><td>NA</td></tr>\n",
              "\t<tr><td>MT</td><td>Governo do Estado do Mato Grosso        </td><td>51</td><td>Mato Grosso        </td><td>5100000</td><td>03507415000144</td><td>RPPS</td><td>NA</td><td>NA</td><td>NA</td><td>⋯</td><td>NA</td><td>NA</td><td>NA</td><td>NA</td><td>NA</td><td>NA</td><td>NA</td><td>NA</td><td>NA</td><td>NA</td></tr>\n",
              "\t<tr><td>PA</td><td>Governo do Estado do Pará               </td><td>15</td><td>Pará               </td><td>1500000</td><td>05054861000176</td><td>RPPS</td><td>NA</td><td>NA</td><td>NA</td><td>⋯</td><td>NA</td><td>NA</td><td>NA</td><td>NA</td><td>NA</td><td>NA</td><td>NA</td><td>NA</td><td>NA</td><td>NA</td></tr>\n",
              "\t<tr><td>PB</td><td>Governo do Estado da Paraíba            </td><td>25</td><td>Paraíba            </td><td>2500000</td><td>08761124000100</td><td>RPPS</td><td>NA</td><td>NA</td><td>NA</td><td>⋯</td><td>NA</td><td>NA</td><td>NA</td><td>NA</td><td>NA</td><td>NA</td><td>NA</td><td>NA</td><td>NA</td><td>NA</td></tr>\n",
              "\t<tr><td>PE</td><td>Governo do Estado de Pernambuco         </td><td>26</td><td>Pernambuco         </td><td>2600000</td><td>10571982000125</td><td>RPPS</td><td>NA</td><td>NA</td><td>NA</td><td>⋯</td><td>NA</td><td>NA</td><td>NA</td><td>NA</td><td>NA</td><td>NA</td><td>NA</td><td>NA</td><td>NA</td><td>NA</td></tr>\n",
              "\t<tr><td>PI</td><td>Governo do Estado do Piauí              </td><td>22</td><td>Piauí              </td><td>2200000</td><td>06553481000149</td><td>RPPS</td><td>NA</td><td>NA</td><td>NA</td><td>⋯</td><td>NA</td><td>NA</td><td>NA</td><td>NA</td><td>NA</td><td>NA</td><td>NA</td><td>NA</td><td>NA</td><td>NA</td></tr>\n",
              "\t<tr><td>PR</td><td>Governo do Estado do Paraná             </td><td>41</td><td>Paraná             </td><td>4100000</td><td>76416940000128</td><td>RPPS</td><td>NA</td><td>NA</td><td>NA</td><td>⋯</td><td>NA</td><td>NA</td><td>NA</td><td>NA</td><td>NA</td><td>NA</td><td>NA</td><td>NA</td><td>NA</td><td>NA</td></tr>\n",
              "\t<tr><td>RJ</td><td>Governo do Estado do Rio de Janeiro     </td><td>33</td><td>Rio de Janeiro     </td><td>3300000</td><td>42498600000171</td><td>RPPS</td><td>NA</td><td>NA</td><td>NA</td><td>⋯</td><td>NA</td><td>NA</td><td>NA</td><td>NA</td><td>NA</td><td>NA</td><td>NA</td><td>NA</td><td>NA</td><td>NA</td></tr>\n",
              "\t<tr><td>RN</td><td>Governo do Estado do Rio Grande do Norte</td><td>24</td><td>Rio Grande do Norte</td><td>2400000</td><td>08241739000105</td><td>RPPS</td><td>NA</td><td>NA</td><td>NA</td><td>⋯</td><td>NA</td><td>NA</td><td>NA</td><td>NA</td><td>NA</td><td>NA</td><td>NA</td><td>NA</td><td>NA</td><td>NA</td></tr>\n",
              "\t<tr><td>RO</td><td>Governo do Estado de Rondônia           </td><td>11</td><td>Rondônia           </td><td>1100000</td><td>00394585000171</td><td>RPPS</td><td>NA</td><td>NA</td><td>NA</td><td>⋯</td><td>NA</td><td>NA</td><td>NA</td><td>NA</td><td>NA</td><td>NA</td><td>NA</td><td>NA</td><td>NA</td><td>NA</td></tr>\n",
              "\t<tr><td>RR</td><td>Governo do Estado de Roraima            </td><td>14</td><td>Roraima            </td><td>1400000</td><td>84012012000126</td><td>RPPS</td><td>NA</td><td>NA</td><td>NA</td><td>⋯</td><td>NA</td><td>NA</td><td>NA</td><td>NA</td><td>NA</td><td>NA</td><td>NA</td><td>NA</td><td>NA</td><td>NA</td></tr>\n",
              "\t<tr><td>RS</td><td>Governo do Estado do Rio Grande do Sul  </td><td>43</td><td>Rio Grande do Sul  </td><td>4300000</td><td>87934675000196</td><td>RPPS</td><td>NA</td><td>NA</td><td>NA</td><td>⋯</td><td>NA</td><td>NA</td><td>NA</td><td>NA</td><td>NA</td><td>NA</td><td>NA</td><td>NA</td><td>NA</td><td>NA</td></tr>\n",
              "\t<tr><td>SC</td><td>Governo do Estado de Santa Catarina     </td><td>42</td><td>Santa Catarina     </td><td>4200000</td><td>82951229000176</td><td>RPPS</td><td>NA</td><td>NA</td><td>NA</td><td>⋯</td><td>NA</td><td>NA</td><td>NA</td><td>NA</td><td>NA</td><td>NA</td><td>NA</td><td>NA</td><td>NA</td><td>NA</td></tr>\n",
              "\t<tr><td>SE</td><td>Governo do Estado de Sergipe            </td><td>28</td><td>Sergipe            </td><td>2800000</td><td>13128798000101</td><td>RPPS</td><td>NA</td><td>NA</td><td>NA</td><td>⋯</td><td>NA</td><td>NA</td><td>NA</td><td>NA</td><td>NA</td><td>NA</td><td>NA</td><td>NA</td><td>NA</td><td>NA</td></tr>\n",
              "\t<tr><td>SP</td><td>Governo do Estado de São Paulo          </td><td>35</td><td>São Paulo          </td><td>3500000</td><td>46379400000150</td><td>RPPS</td><td>NA</td><td>NA</td><td>NA</td><td>⋯</td><td>NA</td><td>NA</td><td>NA</td><td>NA</td><td>NA</td><td>NA</td><td>NA</td><td>NA</td><td>NA</td><td>NA</td></tr>\n",
              "\t<tr><td>TO</td><td>Governo do Estado do Tocantins          </td><td>17</td><td>Tocantins          </td><td>1700000</td><td>01786029000103</td><td>RPPS</td><td>NA</td><td>NA</td><td>NA</td><td>⋯</td><td>NA</td><td>NA</td><td>NA</td><td>NA</td><td>NA</td><td>NA</td><td>NA</td><td>NA</td><td>NA</td><td>NA</td></tr>\n",
              "</tbody>\n",
              "</table>\n"
            ]
          },
          "metadata": {
            "tags": []
          }
        }
      ]
    },
    {
      "cell_type": "markdown",
      "metadata": {
        "id": "3AIprW7CzwLT"
      },
      "source": [
        "Agora vamos excluir os Estados e manter apenas os Municípios que possuam RPPS."
      ]
    },
    {
      "cell_type": "code",
      "metadata": {
        "id": "BQDN5SCua4I1",
        "cellView": "form"
      },
      "source": [
        "#@title \n",
        "dados <- dados %>%\n",
        "          filter(!is.na(pop_estimada), regime == \"RPPS\") "
      ],
      "execution_count": null,
      "outputs": []
    },
    {
      "cell_type": "code",
      "metadata": {
        "colab": {
          "base_uri": "https://localhost:8080/"
        },
        "id": "oePihLKodBmZ",
        "cellView": "form",
        "outputId": "ca347beb-f0a7-4dc8-f63f-aa31b088eb20"
      },
      "source": [
        "#@title \n",
        "glimpse(dados)"
      ],
      "execution_count": null,
      "outputs": [
        {
          "output_type": "stream",
          "text": [
            "Rows: 2,130\n",
            "Columns: 32\n",
            "$ uf             \u001b[3m\u001b[90m<chr>\u001b[39m\u001b[23m \"AC\", \"AL\", \"AL\", \"AL\", \"AL\", \"AL\", \"AL\", \"AL\", \"AL\", \"…\n",
            "$ ente           \u001b[3m\u001b[90m<chr>\u001b[39m\u001b[23m \"Rio Branco\", \"Arapiraca\", \"Atalaia\", \"Barra de Santo A…\n",
            "$ cod_uf         \u001b[3m\u001b[90m<chr>\u001b[39m\u001b[23m \"12\", \"27\", \"27\", \"27\", \"27\", \"27\", \"27\", \"27\", \"27\", \"…\n",
            "$ nm_estado      \u001b[3m\u001b[90m<chr>\u001b[39m\u001b[23m \"Acre\", \"Alagoas\", \"Alagoas\", \"Alagoas\", \"Alagoas\", \"Al…\n",
            "$ cod_ibge       \u001b[3m\u001b[90m<chr>\u001b[39m\u001b[23m \"1200401\", \"2700300\", \"2700409\", \"2700508\", \"2700706\", …\n",
            "$ cnpj           \u001b[3m\u001b[90m<chr>\u001b[39m\u001b[23m \"04034583000122\", \"12198693000158\", \"12200143000126\", \"…\n",
            "$ regime         \u001b[3m\u001b[90m<chr>\u001b[39m\u001b[23m \"RPPS\", \"RPPS\", \"RPPS\", \"RPPS\", \"RPPS\", \"RPPS\", \"RPPS\",…\n",
            "$ dif_ibge_sprev \u001b[3m\u001b[90m<lgl>\u001b[39m\u001b[23m NA, NA, NA, NA, NA, NA, NA, NA, NA, NA, NA, NA, NA, NA,…\n",
            "$ pop_estimada   \u001b[3m\u001b[90m<int>\u001b[39m\u001b[23m 413418, 233047, 47365, 16068, 18338, 4284, 6710, 27356,…\n",
            "$ populacao      \u001b[3m\u001b[90m<dbl>\u001b[39m\u001b[23m 335796, 214067, 44379, 14228, 17076, 4551, 7032, 25780,…\n",
            "$ regiao         \u001b[3m\u001b[90m<chr>\u001b[39m\u001b[23m \"N\", \"NE\", \"NE\", \"NE\", \"NE\", \"NE\", \"NE\", \"NE\", \"NE\", \"N…\n",
            "$ item_1.1       \u001b[3m\u001b[90m<chr>\u001b[39m\u001b[23m \"24/06/21\", \"23/06/21\", NA, NA, NA, NA, NA, NA, NA, \"27…\n",
            "$ item_1.3       \u001b[3m\u001b[90m<chr>\u001b[39m\u001b[23m \"29/06/21\", \"23/08/21\", NA, NA, NA, NA, \"16/08/21\", \"12…\n",
            "$ item_1.4       \u001b[3m\u001b[90m<chr>\u001b[39m\u001b[23m \"03/06/21\", \"03/06/21\", \"03/06/21\", \"03/06/21\", \"03/06/…\n",
            "$ item_1.5       \u001b[3m\u001b[90m<chr>\u001b[39m\u001b[23m \"03/06/21\", \"03/06/21\", NA, NA, NA, NA, NA, NA, \"03/06/…\n",
            "$ item_2.1.1     \u001b[3m\u001b[90m<chr>\u001b[39m\u001b[23m \"03/06/21\", \"03/06/21\", NA, \"03/06/21\", \"03/06/21\", NA,…\n",
            "$ item_2.1.2     \u001b[3m\u001b[90m<chr>\u001b[39m\u001b[23m \"03/06/21\", \"03/06/21\", NA, \"03/06/21\", \"03/06/21\", \"03…\n",
            "$ item_3.1.1     \u001b[3m\u001b[90m<chr>\u001b[39m\u001b[23m \"30/09/21\", \"30/09/21\", NA, NA, NA, NA, NA, NA, NA, \"30…\n",
            "$ item_3.1.2     \u001b[3m\u001b[90m<chr>\u001b[39m\u001b[23m \"30/09/21\", \"30/09/21\", NA, NA, NA, NA, NA, NA, NA, \"30…\n",
            "$ item_3.2.1     \u001b[3m\u001b[90m<chr>\u001b[39m\u001b[23m \"30/07/21\", \"30/07/21\", NA, \"30/07/21\", NA, NA, NA, NA,…\n",
            "$ item_3.2.2     \u001b[3m\u001b[90m<chr>\u001b[39m\u001b[23m \"30/07/21\", \"30/07/21\", NA, NA, NA, NA, NA, NA, NA, \"30…\n",
            "$ item_3.2.3     \u001b[3m\u001b[90m<chr>\u001b[39m\u001b[23m \"Desabilitado\", \"Desabilitado\", \"Desabilitado\", \"Desabi…\n",
            "$ item_3.2.4     \u001b[3m\u001b[90m<chr>\u001b[39m\u001b[23m \"Desabilitado\", \"Desabilitado\", \"Desabilitado\", \"Desabi…\n",
            "$ item_3.3       \u001b[3m\u001b[90m<chr>\u001b[39m\u001b[23m \"30/04/22\", \"30/04/22\", \"30/04/22\", \"30/04/22\", NA, NA,…\n",
            "$ item_3.4       \u001b[3m\u001b[90m<chr>\u001b[39m\u001b[23m \"30/06/21\", \"30/06/21\", NA, NA, NA, NA, NA, NA, \"30/06/…\n",
            "$ item_3.5       \u001b[3m\u001b[90m<chr>\u001b[39m\u001b[23m \"03/06/21\", \"03/06/21\", NA, \"03/06/21\", NA, NA, NA, NA,…\n",
            "$ item_4.1       \u001b[3m\u001b[90m<chr>\u001b[39m\u001b[23m \"30/04/22\", \"30/04/22\", \"30/04/22\", \"30/04/22\", NA, NA,…\n",
            "$ item_4.2       \u001b[3m\u001b[90m<chr>\u001b[39m\u001b[23m \"Desabilitado\", \"Desabilitado\", \"Desabilitado\", \"Desabi…\n",
            "$ item_5.1       \u001b[3m\u001b[90m<chr>\u001b[39m\u001b[23m \"30/01/22\", \"30/01/22\", NA, NA, NA, NA, NA, NA, NA, \"30…\n",
            "$ item_5.2       \u001b[3m\u001b[90m<chr>\u001b[39m\u001b[23m \"03/06/21\", \"03/06/21\", \"03/06/21\", \"03/06/21\", \"03/06/…\n",
            "$ item_5.3       \u001b[3m\u001b[90m<chr>\u001b[39m\u001b[23m \"30/07/21\", \"30/07/21\", NA, NA, NA, NA, NA, NA, NA, \"30…\n",
            "$ item_5.4       \u001b[3m\u001b[90m<chr>\u001b[39m\u001b[23m \"30/09/21\", \"30/09/21\", NA, NA, NA, NA, NA, NA, NA, \"30…\n"
          ],
          "name": "stdout"
        }
      ]
    },
    {
      "cell_type": "code",
      "metadata": {
        "id": "n5bf6LyybXOP",
        "cellView": "form"
      },
      "source": [
        "#@title \n",
        "dados <- dados %>%\n",
        "          mutate(menos50milhab = ifelse(pop_estimada < 50000, 1, 0))"
      ],
      "execution_count": null,
      "outputs": []
    },
    {
      "cell_type": "markdown",
      "metadata": {
        "id": "t4rEmL4D0b3s"
      },
      "source": [
        "Quantos municípios com menos de 50 mil hab. possuem RPPS?"
      ]
    },
    {
      "cell_type": "code",
      "metadata": {
        "colab": {
          "base_uri": "https://localhost:8080/",
          "height": 160
        },
        "id": "UbWD9YA-0lQJ",
        "cellView": "form",
        "outputId": "1f27880d-24eb-4e0d-a918-6318edd056b2"
      },
      "source": [
        "#@title \n",
        "dados %>%\n",
        "  count(menos50milhab) %>%\n",
        "  mutate(`%` = round( n / sum(n) * 100, 2))"
      ],
      "execution_count": null,
      "outputs": [
        {
          "output_type": "display_data",
          "data": {
            "text/plain": [
              "  menos50milhab n    %    \n",
              "1 0              465 21.83\n",
              "2 1             1665 78.17"
            ],
            "text/latex": "A tibble: 2 × 3\n\\begin{tabular}{lll}\n menos50milhab & n & \\%\\\\\n <dbl> & <int> & <dbl>\\\\\n\\hline\n\t 0 &  465 & 21.83\\\\\n\t 1 & 1665 & 78.17\\\\\n\\end{tabular}\n",
            "text/markdown": "\nA tibble: 2 × 3\n\n| menos50milhab &lt;dbl&gt; | n &lt;int&gt; | % &lt;dbl&gt; |\n|---|---|---|\n| 0 |  465 | 21.83 |\n| 1 | 1665 | 78.17 |\n\n",
            "text/html": [
              "<table class=\"dataframe\">\n",
              "<caption>A tibble: 2 × 3</caption>\n",
              "<thead>\n",
              "\t<tr><th scope=col>menos50milhab</th><th scope=col>n</th><th scope=col>%</th></tr>\n",
              "\t<tr><th scope=col>&lt;dbl&gt;</th><th scope=col>&lt;int&gt;</th><th scope=col>&lt;dbl&gt;</th></tr>\n",
              "</thead>\n",
              "<tbody>\n",
              "\t<tr><td>0</td><td> 465</td><td>21.83</td></tr>\n",
              "\t<tr><td>1</td><td>1665</td><td>78.17</td></tr>\n",
              "</tbody>\n",
              "</table>\n"
            ]
          },
          "metadata": {
            "tags": []
          }
        }
      ]
    },
    {
      "cell_type": "markdown",
      "metadata": {
        "id": "HsfVBMIKkDRQ"
      },
      "source": [
        "78% dos Entes vinculados ao RPPS possuem menos de 50 mil habitantes."
      ]
    },
    {
      "cell_type": "markdown",
      "metadata": {
        "id": "rPRoGBJ26DSU"
      },
      "source": [
        "Com os dados do CAUC é possível verificar como está o encaminhamento da Matriz de Saldos Contábeis - MSC pelos Entes que possuem RPPS. Esta obrigação é evidenciada no item 3.4 do CAUC."
      ]
    },
    {
      "cell_type": "code",
      "metadata": {
        "colab": {
          "base_uri": "https://localhost:8080/",
          "height": 52
        },
        "id": "VTymZAhT60qR",
        "cellView": "form",
        "outputId": "ead3e168-cf5a-4573-e274-86693ece85b6"
      },
      "source": [
        "#@title \n",
        "# Não comprovaram o encaminhamento da MSC\n",
        "sum(is.na(dados$item_3.4))\n",
        "round(sum(is.na(dados$item_3.4)) / nrow(dados) * 100, 2)  "
      ],
      "execution_count": null,
      "outputs": [
        {
          "output_type": "display_data",
          "data": {
            "text/plain": [
              "[1] 541"
            ],
            "text/latex": "541",
            "text/markdown": "541",
            "text/html": [
              "541"
            ]
          },
          "metadata": {
            "tags": []
          }
        },
        {
          "output_type": "display_data",
          "data": {
            "text/plain": [
              "[1] 25.4"
            ],
            "text/latex": "25.4",
            "text/markdown": "25.4",
            "text/html": [
              "25.4"
            ]
          },
          "metadata": {
            "tags": []
          }
        }
      ]
    },
    {
      "cell_type": "markdown",
      "metadata": {
        "id": "2t2vOy1FMfFK"
      },
      "source": [
        "25% (541) dos Municípios com RPPS não comprovaram o encaminhamento da MSC. Mas em quais estados estão esses municípios?"
      ]
    }
  ]
}